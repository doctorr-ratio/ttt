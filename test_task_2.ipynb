{
 "cells": [
  {
   "cell_type": "code",
   "execution_count": 1,
   "metadata": {},
   "outputs": [
    {
     "name": "stdout",
     "output_type": "stream",
     "text": [
      "Requirement already satisfied: requests in /home/m/anaconda3/lib/python3.7/site-packages (2.22.0)\n",
      "Requirement already satisfied: lxml in /home/m/anaconda3/lib/python3.7/site-packages (4.5.0)\n",
      "Requirement already satisfied: bs4 in /home/m/anaconda3/lib/python3.7/site-packages (0.0.1)\n",
      "Requirement already satisfied: urllib3!=1.25.0,!=1.25.1,<1.26,>=1.21.1 in /home/m/anaconda3/lib/python3.7/site-packages (from requests) (1.25.8)\n",
      "Requirement already satisfied: idna<2.9,>=2.5 in /home/m/anaconda3/lib/python3.7/site-packages (from requests) (2.8)\n",
      "Requirement already satisfied: certifi>=2017.4.17 in /home/m/anaconda3/lib/python3.7/site-packages (from requests) (2021.10.8)\n",
      "Requirement already satisfied: chardet<3.1.0,>=3.0.2 in /home/m/anaconda3/lib/python3.7/site-packages (from requests) (3.0.4)\n",
      "Requirement already satisfied: beautifulsoup4 in /home/m/anaconda3/lib/python3.7/site-packages (from bs4) (4.8.2)\n",
      "Requirement already satisfied: soupsieve>=1.2 in /home/m/anaconda3/lib/python3.7/site-packages (from beautifulsoup4->bs4) (1.9.5)\n"
     ]
    }
   ],
   "source": [
    "!pip install requests lxml bs4"
   ]
  },
  {
   "cell_type": "code",
   "execution_count": 2,
   "metadata": {},
   "outputs": [],
   "source": [
    "import requests\n",
    "from bs4 import BeautifulSoup\n",
    "from collections import Counter\n",
    "\n",
    "# Getting starting page\n",
    "url = \"https://ru.wikipedia.org/wiki/Категория:Животные_по_алфавиту\"\n",
    "page = requests.get(url).text\n",
    "\n",
    "# Counter object for our task\n",
    "cnt = Counter()\n",
    "\n",
    "# 'АБВГДЕЖЗИЙКЛМНОПРСТУФХЦЧШЩЪЫЬЭЮЯЁ' -- only cyrillic names\n",
    "a = ord('А')\n",
    "alphabet = ''.join([chr(i) for i in range(a,a+32)])+'Ё'\n",
    "\n",
    "# Flag-variable for stopping while loop\n",
    "keep_going = True\n",
    "\n",
    "while keep_going:\n",
    "    # Getting the page and finding 3rd div with 'mw-category-group' class\n",
    "    # Then finding all <a> inside\n",
    "    soup = BeautifulSoup(page, 'lxml')\n",
    "    names = soup.find_all('div', class_='mw-category-group')[2].find_all('a')\n",
    "    \n",
    "    charlist = '' # for writing first letters\n",
    "    for name in names:\n",
    "        if name.text[0] in alphabet: # check for cyrillic\n",
    "            charlist += name.text[0]\n",
    "        else: # if not -- stop the loop on next iteration\n",
    "            keep_going = False\n",
    "    cnt.update(charlist) # update counter object\n",
    "\n",
    "    # Then go to next page, if there is a link\n",
    "    links = soup.find('div', id='mw-pages').find_all('a')\n",
    "    for a in links:\n",
    "        if a.text == 'Следующая страница':\n",
    "            url = 'https://ru.wikipedia.org/' + a.get('href')\n",
    "            page = requests.get(url).text"
   ]
  },
  {
   "cell_type": "code",
   "execution_count": 3,
   "metadata": {},
   "outputs": [
    {
     "data": {
      "text/plain": [
       "Counter({'А': 1147,\n",
       "         'Б': 1546,\n",
       "         'В': 461,\n",
       "         'Г': 846,\n",
       "         'П': 1694,\n",
       "         'Д': 588,\n",
       "         'Е': 85,\n",
       "         'Ё': 2,\n",
       "         'О': 566,\n",
       "         'Ж': 281,\n",
       "         'Я': 103,\n",
       "         'З': 503,\n",
       "         'И': 240,\n",
       "         'К': 2030,\n",
       "         'С': 1587,\n",
       "         'Л': 510,\n",
       "         'М': 1150,\n",
       "         'Н': 401,\n",
       "         'Р': 450,\n",
       "         'Т': 955,\n",
       "         'У': 198,\n",
       "         'Ф': 187,\n",
       "         'Х': 257,\n",
       "         'Ц': 75,\n",
       "         'Ч': 534,\n",
       "         'Ш': 202,\n",
       "         'Э': 161,\n",
       "         'Ю': 94})"
      ]
     },
     "execution_count": 3,
     "metadata": {},
     "output_type": "execute_result"
    }
   ],
   "source": [
    "cnt"
   ]
  },
  {
   "cell_type": "code",
   "execution_count": null,
   "metadata": {},
   "outputs": [],
   "source": []
  }
 ],
 "metadata": {
  "kernelspec": {
   "display_name": "Python 3",
   "language": "python",
   "name": "python3"
  },
  "language_info": {
   "codemirror_mode": {
    "name": "ipython",
    "version": 3
   },
   "file_extension": ".py",
   "mimetype": "text/x-python",
   "name": "python",
   "nbconvert_exporter": "python",
   "pygments_lexer": "ipython3",
   "version": "3.7.6"
  }
 },
 "nbformat": 4,
 "nbformat_minor": 5
}
